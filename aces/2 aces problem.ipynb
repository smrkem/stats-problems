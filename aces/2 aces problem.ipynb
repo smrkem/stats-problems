{
 "cells": [
  {
   "cell_type": "code",
   "execution_count": 173,
   "metadata": {},
   "outputs": [
    {
     "name": "stdout",
     "output_type": "stream",
     "text": [
      "P_ace:  0.14932126696832582\n",
      "P_2_aces:  0.004524886877828055\n",
      "P_ace_spades:  0.038461538461538464\n",
      "P_2_aces_AND_ace_spades:  0.0022624434389140274\n",
      "P(2 aces | ace spades):  0.058823529411764705 (1/17)\n",
      "P(2 aces | 1 ace):  0.0303030303030303 (1/33)\n"
     ]
    }
   ],
   "source": [
    "from math import comb\n",
    "# P(at least 1 ace) P_ace\n",
    "\n",
    "# Compliment. 1 - Pr no aces\n",
    "# Pr no aces: relevant outcomes / total outcomes\n",
    "# 48 non aces in deck. 48 choose 2 / 52 choose 2\n",
    "# P_ace = 1 - 48 choose 2 / 52 choose 2\n",
    "P_ace_1 = 1 - ( comb(48, 2) / comb(52, 2))\n",
    "# print('P_ace_1: ', P_ace_1)\n",
    "\n",
    "# ORDERED\n",
    "# P(1st ace) + P(2nd ace) \n",
    "# (must subtract possibility both cards are aces or else they get double counted)\n",
    "P_ace_2 = 4/52 + 4/52 - P_2_aces\n",
    "# print('P_ace_2: ', P_ace_2)\n",
    "\n",
    "# P_ace_1 == P_ace_2 == P_ace\n",
    "P_ace = P_ace_1\n",
    "print('P_ace: ', P_ace)\n",
    "\n",
    "\n",
    "P_2_aces = 4/52 * 3/51\n",
    "print('P_2_aces: ', P_2_aces)\n",
    "\n",
    "P_ace_spades = 1/52 + 1/52\n",
    "print('P_ace_spades: ', P_ace_spades)\n",
    "\n",
    "# exactly half of the 2 ace pairs will contain the ace of spades\n",
    "P_2_aces_AND_ace_spades = 1/2 * P_2_aces\n",
    "print('P_2_aces_AND_ace_spades: ', P_2_aces_AND_ace_spades)\n",
    "\n",
    "print('P(2 aces | ace spades): ', P_2_aces_AND_ace_spades / P_ace_spades, '(1/17)')\n",
    "print('P(2 aces | 1 ace): ', P_2_aces / P_ace, '(1/33)')"
   ]
  },
  {
   "cell_type": "code",
   "execution_count": null,
   "metadata": {},
   "outputs": [],
   "source": [
    "# Intuition\n",
    "\n",
    "# How many pairs of 2 aces can there be?\n",
    "# Answer: 6\n",
    "# (Ace Sp, Ace Di), (Ace Sp, Ace Cl), (Ace Sp, Ace He), (Ace Cl, Ace Di), (Ace He, Ace Di), (Ace He, Ace Cl)\n",
    "# 3 pairs have an Ace Sp\n",
    "\n",
    "# How many pairs with only one ace can there be?\n",
    "# Answer: 192\n",
    "# (There are 48 non-ace cards in the deck)\n",
    "# 48 with Ace Sp and any other card\n",
    "# 48 with Ace He and any other card\n",
    "# 48 with Ace Cl and any other card\n",
    "# 48 with Ace Di and any other card\n",
    "# 48 pairs have an Ace Sp\n",
    "\n",
    "# In revealing the information that there is an Ace Sp, \n",
    "# the number of favourable outcomes is cut in half (6 --> 3) \n",
    "# but the number of unfavourable outcomes is cut in 4 (192 --> 48)"
   ]
  },
  {
   "cell_type": "code",
   "execution_count": 109,
   "metadata": {},
   "outputs": [],
   "source": [
    "import random\n",
    "\n",
    "SUITS = ['Sp', 'Di', 'He', 'Cl']\n",
    "RANKS = ['A', '2', '3', '4', '5', '6', '7', '8', '9', '10', 'J', 'Q', 'K']\n",
    "\n",
    "def new_deck():\n",
    "    deck = [(rank, suit) for rank in RANKS for suit in SUITS]\n",
    "    random.shuffle(deck)\n",
    "    return deck\n",
    "\n",
    "def pair_one_ace():\n",
    "    deck = new_deck()\n",
    "    while deck[0][0] != 'A' and deck[1][0] != 'A':\n",
    "        deck = new_deck()\n",
    "    return deck[:2]\n",
    "\n",
    "def pair_first_ace():\n",
    "    deck = new_deck()\n",
    "    while deck[0][0] != 'A':\n",
    "        deck = new_deck()\n",
    "    return deck[:2]\n",
    "\n",
    "def pair_one_ace_spades():\n",
    "    deck = new_deck()\n",
    "    while deck[0] != ('A', 'Sp') and deck[1] != ('A', 'Sp'):\n",
    "        deck = new_deck()\n",
    "    return deck[:2]\n",
    "\n",
    "def pair_first_ace_spades():\n",
    "    deck = new_deck()\n",
    "    while deck[0] != ('A', 'Sp'):\n",
    "        deck = new_deck()\n",
    "    return deck[:2]"
   ]
  },
  {
   "cell_type": "code",
   "execution_count": 112,
   "metadata": {},
   "outputs": [
    {
     "data": {
      "text/plain": [
       "[('K', 'Di'), ('A', 'Cl')]"
      ]
     },
     "execution_count": 112,
     "metadata": {},
     "output_type": "execute_result"
    }
   ],
   "source": [
    "pair = pair_one_ace()\n",
    "pair"
   ]
  },
  {
   "cell_type": "code",
   "execution_count": 120,
   "metadata": {},
   "outputs": [
    {
     "data": {
      "text/plain": [
       "[('A', 'Sp'), ('K', 'Cl')]"
      ]
     },
     "execution_count": 120,
     "metadata": {},
     "output_type": "execute_result"
    }
   ],
   "source": [
    "pair = pair_one_ace_spades()\n",
    "pair"
   ]
  },
  {
   "cell_type": "code",
   "execution_count": 172,
   "metadata": {},
   "outputs": [
    {
     "name": "stdout",
     "output_type": "stream",
     "text": [
      "num_hits:  322\n",
      "0.0322 0.030303030303030304\n"
     ]
    }
   ],
   "source": [
    "# prob of 2 aces given one ace?\n",
    "num_hits = 0\n",
    "for i in range(10000):\n",
    "    pair = pair_one_ace()\n",
    "    if pair[0][0] == 'A' and pair[1][0] == 'A':\n",
    "        num_hits += 1\n",
    "\n",
    "print('num_hits: ', num_hits)\n",
    "print(num_hits/10000, 1/33)"
   ]
  },
  {
   "cell_type": "code",
   "execution_count": 171,
   "metadata": {},
   "outputs": [
    {
     "name": "stdout",
     "output_type": "stream",
     "text": [
      "num_hits:  578\n",
      "0.0578 0.058823529411764705\n"
     ]
    }
   ],
   "source": [
    "# prob of 2 aces given ace of spades?\n",
    "num_hits = 0\n",
    "for i in range(10000):\n",
    "    pair = pair_one_ace_spades()\n",
    "    if pair[0][0] == 'A' and pair[1][0] == 'A':\n",
    "        num_hits += 1\n",
    "\n",
    "print('num_hits: ', num_hits)\n",
    "print(num_hits/10000, 1/17)"
   ]
  },
  {
   "cell_type": "code",
   "execution_count": 177,
   "metadata": {},
   "outputs": [
    {
     "data": {
      "text/plain": [
       "'\\nIf we are told the first card dealt is an ace, \\nthen the chances of 2 aces are 1/17 (same as either card being Ace of Spades).\\n\\nWhy 1/17 when the first card is an ace, but 1/33 when an unspecified card is an ace?\\n\\nKnowing 1 card is an ace has 192 possible outcomes (from above) with only 1 ace, and 6 possible outcomes with 2 aces.\\n6 / (192 + 6) = 6 / 198 = 1/33\\nKnowing the first card is an ace reduces the possible outcomes of the second card to 48 with no ace, and 3 with an ace.\\n3 / (48 + 3) = 3 / 51 = 1/17\\n'"
      ]
     },
     "execution_count": 177,
     "metadata": {},
     "output_type": "execute_result"
    }
   ],
   "source": [
    "\"\"\"\n",
    "If we are told the first card dealt is an ace, \n",
    "then the chances of 2 aces are 1/17 (same as either card being Ace of Spades).\n",
    "\n",
    "Why 1/17 when the first card is an ace, but 1/33 when an unspecified card is an ace?\n",
    "\n",
    "Knowing 1 card is an ace has 192 possible outcomes (from above) with only 1 ace, and 6 possible outcomes with 2 aces.\n",
    "6 / (192 + 6) = 6 / 198 = 1/33\n",
    "Knowing the first card is an ace reduces the possible outcomes of the second card to 48 with no ace, and 3 with an ace.\n",
    "3 / (48 + 3) = 3 / 51 = 1/17\n",
    "\"\"\""
   ]
  }
 ],
 "metadata": {
  "kernelspec": {
   "display_name": "Python 3",
   "language": "python",
   "name": "python3"
  },
  "language_info": {
   "codemirror_mode": {
    "name": "ipython",
    "version": 3
   },
   "file_extension": ".py",
   "mimetype": "text/x-python",
   "name": "python",
   "nbconvert_exporter": "python",
   "pygments_lexer": "ipython3",
   "version": "3.8.2"
  }
 },
 "nbformat": 4,
 "nbformat_minor": 4
}
